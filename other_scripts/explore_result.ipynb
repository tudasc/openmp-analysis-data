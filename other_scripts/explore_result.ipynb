{
 "cells": [
  {
   "cell_type": "code",
   "id": "initial_id",
   "metadata": {
    "collapsed": true
   },
   "source": [
    "import pandas as pd\n",
    "import numpy as np\n",
    "import os\n",
    "\n",
    "import matplotlib.pyplot as plt\n",
    "import seaborn as sns\n",
    "\n",
    "sns.set_style(\"whitegrid\")\n",
    "\n",
    "input_file = \"/home/tim/cluster/openmp-usage-analysis/result.csv\"\n",
    "\n",
    "plot_path= \"/home/tim/paper/openmp-analysis-paper/media\"\n",
    "df = pd.read_csv(input_file, index_col=0)\n"
   ],
   "outputs": [],
   "execution_count": null
  },
  {
   "metadata": {},
   "cell_type": "code",
   "source": "OVERHEAD_THRESHOLD = 100",
   "id": "ee40524707552c17",
   "outputs": [],
   "execution_count": null
  },
  {
   "metadata": {},
   "cell_type": "code",
   "source": [
    "df[\"large_overhead\"] = df[\"instructions_weighted\"] < OVERHEAD_THRESHOLD\n",
    "df[\"small_overhead\"] = df[\"instructions_weighted\"] >= OVERHEAD_THRESHOLD"
   ],
   "id": "7cdf55d0d660d369",
   "outputs": [],
   "execution_count": null
  },
  {
   "metadata": {},
   "cell_type": "code",
   "source": "len(df[\"Code\"].unique())",
   "id": "9b0fdecbdced3ebb",
   "outputs": [],
   "execution_count": null
  },
  {
   "metadata": {},
   "cell_type": "code",
   "source": "pass",
   "id": "9ee7f49cd204534a",
   "outputs": [],
   "execution_count": null
  },
  {
   "metadata": {},
   "cell_type": "code",
   "source": [
    "# Number of parallel regions per Repo\n",
    "ax = df.groupby(\"Code\").size().value_counts().sort_index().plot.bar()\n",
    "ax.set_xlabel(\"Number of parallel Regions\")\n",
    "ax.set_ylabel(\"number of Codes\")\n",
    "ax.set_title(\"Number of parallel regions per Repo\")\n",
    "plt.savefig(os.path.join(plot_path, \"num_regions.pdf\"))\n",
    "plt.tight_layout()\n",
    "plt.show()\n"
   ],
   "id": "e992f8b49dd6e771",
   "outputs": [],
   "execution_count": null
  },
  {
   "metadata": {},
   "cell_type": "code",
   "source": "",
   "id": "cf167e2c96fea3b5",
   "outputs": [],
   "execution_count": null
  },
  {
   "metadata": {},
   "cell_type": "code",
   "source": "df[\"default_tripcount_loops\"].sum()",
   "id": "906b68260420ba83",
   "outputs": [],
   "execution_count": null
  },
  {
   "metadata": {},
   "cell_type": "code",
   "source": "df[\"known_tripcount_loops\"].sum()",
   "id": "4eebe0235f7769fa",
   "outputs": [],
   "execution_count": null
  },
  {
   "metadata": {},
   "cell_type": "code",
   "source": "df[\"thread_dependant_trip_count_loops\"].sum()",
   "id": "2704dbc518269400",
   "outputs": [],
   "execution_count": null
  },
  {
   "metadata": {},
   "cell_type": "markdown",
   "source": [
    "Fragen:\n",
    "Wie viele user beachten die aspekte um gute openmp usage zu haben\n",
    "\n",
    "\n",
    "Analyse per project\n",
    "\n",
    "Verhältnis overhead/parallel region per project\n",
    "overhead mit 100 instructions annehmen\n",
    "codegröße insgesamt\n",
    "Wie viele regions per project, welcher typ\n",
    "\n",
    "welche konstrukte"
   ],
   "id": "9b3b6f3bac188267"
  },
  {
   "metadata": {},
   "cell_type": "code",
   "source": [
    "ax = df[\"instructions_flat\"].plot.hist(bins=np.logspace(start=0,stop=6))\n",
    "ax.set_xscale(\"log\")\n",
    "ax.set_xlabel(\"Instructions in Parallel region\")\n",
    "ax.set_title(\"Distribution of Instruction counts of Parallel region\")\n",
    "plt.savefig(os.path.join(plot_path, \"flat_instructions_distribution.pdf\"))"
   ],
   "id": "e8192b80d52d975",
   "outputs": [],
   "execution_count": null
  },
  {
   "metadata": {},
   "cell_type": "code",
   "source": [
    "ax = df[\"instructions_weighted\"].plot.hist(bins=np.logspace(start=0,stop=6,num=50))\n",
    "ax.set_xscale(\"log\")\n",
    "ax.set_xlabel(\"Instructions in Parallel region\")\n",
    "ax.set_title(\"Distribution of Instruction counts of Parallel region\")\n",
    "plt.savefig(os.path.join(plot_path, \"weighted_instructions_distribution.pdf\"))"
   ],
   "id": "11d46504012de57e",
   "outputs": [],
   "execution_count": null
  },
  {
   "metadata": {},
   "cell_type": "code",
   "source": [
    "df_overhead_rating = df.groupby(\"Code\")[[\"large_overhead\", \"small_overhead\"]].sum()\n",
    "df_overhead_rating['percentage'] = df_overhead_rating['large_overhead'] / (\n",
    "            df_overhead_rating['large_overhead'] + df_overhead_rating['small_overhead'])"
   ],
   "id": "39ebabf0a858190d",
   "outputs": [],
   "execution_count": null
  },
  {
   "metadata": {},
   "cell_type": "markdown",
   "source": "",
   "id": "ff7836a1055c2fca"
  },
  {
   "metadata": {},
   "cell_type": "code",
   "source": [
    "# plot an excerpt\n",
    "ax = df_overhead_rating.iloc[0:10].plot.barh(stacked=True)"
   ],
   "id": "610aed8982081b7f",
   "outputs": [],
   "execution_count": null
  },
  {
   "metadata": {},
   "cell_type": "code",
   "source": [
    "# Repos with at least one example of large overhead region\n",
    "(df_overhead_rating[\"large_overhead\"] > 1).sum()"
   ],
   "id": "69ae64c1e91bac4c",
   "outputs": [],
   "execution_count": null
  },
  {
   "metadata": {},
   "cell_type": "code",
   "source": [
    "ax = df_overhead_rating['percentage'].plot.hist(bins=100)\n",
    "ax.set_xlabel(\"Fraction of high overhead parallel regions\")\n",
    "ax.set_ylabel(\"number of Codes\")\n",
    "ax.set_title(\"Fraction of high overhead parallel regions per project\")\n",
    "\n",
    "#plt.savefig(os.path.join(plot_path,\"plot.pdf\"))"
   ],
   "id": "5dbf6c9f656512cf",
   "outputs": [],
   "execution_count": null
  },
  {
   "metadata": {},
   "cell_type": "code",
   "source": [
    "fig, ax = plt.subplots(figsize=(10, 2))\n",
    "\n",
    "data = df_overhead_rating['percentage'].sort_values()\n",
    "\n",
    "# Normalize the percentage values to use as colors\n",
    "# Normalize the percentage values to use as colors\n",
    "norm = plt.Normalize(data.min(), data.max())\n",
    "sm = plt.cm.ScalarMappable(cmap=\"cool\", norm=norm)\n",
    "colors = sm.to_rgba(data)\n",
    "\n",
    "# Plot the horizontal bar segments\n",
    "start = 0\n",
    "for i, percentage in enumerate(data):\n",
    "    ax.barh(0, 1, left=start, color=colors[i]\n",
    "            #, edgecolor='black'\n",
    "            )\n",
    "    start += 1\n",
    "\n",
    "# Set the labels and title\n",
    "ax.set_xlabel(\"Number of Codes\")\n",
    "ax.set_yticks([])  # Hide y-axis ticks\n",
    "ax.set_xlim([0, len(data)])\n",
    "ax.set_title(\"Fraction of high overhead parallel regions per project\")\n",
    "\n",
    "# Add a legend\n",
    "cbar = plt.colorbar(sm, ax=ax, orientation='horizontal', pad=0.4)\n",
    "cbar.set_label('Fraction of high overhead parallel regions')\n",
    "fig.tight_layout()\n",
    "plt.savefig(os.path.join(plot_path,\"fraction_per_project.pdf\"))\n",
    "plt.show()\n"
   ],
   "id": "2b9962bd39022cf1",
   "outputs": [],
   "execution_count": null
  },
  {
   "metadata": {},
   "cell_type": "code",
   "source": "#df_loops = df.groupby(\"Code\")[[\"default_tripcount_loops\",\"known_tripcount_loops\",\"thread_dependant_trip_count_loops\"]].sum()",
   "id": "4c5b524981128e57",
   "outputs": [],
   "execution_count": null
  },
  {
   "metadata": {},
   "cell_type": "code",
   "source": "df[\"loop_sum\"] = df[[\"default_tripcount_loops\",\"known_tripcount_loops\",\"thread_dependant_trip_count_loops\"]].sum(axis=1)",
   "id": "2b7cf55ad0ca86c1",
   "outputs": [],
   "execution_count": null
  },
  {
   "metadata": {},
   "cell_type": "code",
   "source": "df",
   "id": "16680df91e13bda0",
   "outputs": [],
   "execution_count": null
  },
  {
   "metadata": {},
   "cell_type": "code",
   "source": [
    "ax = df[\"loop_sum\"].plot.hist(bins=np.logspace(start=0,stop=2,num=20))\n",
    "ax.set_xscale(\"log\")\n",
    "ax.set_xlabel(\"Loops in Parallel region\")\n",
    "ax.set_title(\"Distribution of loop counts in Parallel region\")\n",
    "#plt.savefig(os.path.join(plot_path, \"loops_distribution.pdf\"))"
   ],
   "id": "9afa73c0c4aba38f",
   "outputs": [],
   "execution_count": null
  },
  {
   "metadata": {},
   "cell_type": "code",
   "source": [
    "# manual sorting into the bins\n",
    "bins = np.logspace(start=0, stop=2, num=21)\n",
    "\n",
    "default = [0 for _ in range(len(bins)+1)]\n",
    "known = [0 for _ in range(len(bins)+1)]\n",
    "thread = [0 for _ in range(len(bins)+1)]\n",
    "\n",
    "for idx,row in df.iterrows():    \n",
    "    if row['loop_sum']>0:\n",
    "        b_index = np.searchsorted(bins ,row[\"loop_sum\"])\n",
    "        default[b_index] += row[\"default_tripcount_loops\"] / row[\"loop_sum\"]\n",
    "        known[b_index] += row[\"known_tripcount_loops\"] /row[\"loop_sum\"]\n",
    "        thread[b_index] += row[\"thread_dependant_trip_count_loops\"]/row[\"loop_sum\"]\n",
    "\n",
    "default=default[:-2]\n",
    "known=known[:-2]\n",
    "thread=thread[:-2]\n",
    "\n",
    "fig, ax = plt.subplots()\n",
    "ax.bar(    \n",
    "    bins[:-1],\n",
    "    default,    \n",
    "    label=\"default_tripcount_loops\",\n",
    "    width=np.diff(bins),\n",
    "    align='edge',\n",
    ")\n",
    "ax.bar(    \n",
    "    bins[:-1],\n",
    "    known,   \n",
    "    bottom = default,\n",
    "    label=\"known_tripcount_loops\",\n",
    "    width=np.diff(bins),\n",
    "    align='edge',\n",
    ")\n",
    "ax.bar(    \n",
    "    bins[:-1],\n",
    "    thread,   \n",
    "    bottom = np.add(default,known),\n",
    "    label=\"thread_dependant_tripcount_loops\",\n",
    "    width=np.diff(bins),\n",
    "    align='edge',\n",
    ")\n",
    "\n",
    "ax.set_xscale(\"log\")\n",
    "ax.set_xlabel(\"Loops in Parallel region\")\n",
    "ax.set_ylabel(\"Frequency\")\n",
    "# bar coloring according to percentages of loops\n",
    "ax.set_title(\"Distribution of loop counts in Parallel region\")\n",
    "ax.legend()\n",
    "\n",
    "plt.savefig(os.path.join(plot_path, \"loops_distribution.pdf\"))\n",
    "plt.show()"
   ],
   "id": "39e29c4e793b013d",
   "outputs": [],
   "execution_count": null
  },
  {
   "metadata": {},
   "cell_type": "code",
   "source": "",
   "id": "eb6febddafc850c8",
   "outputs": [],
   "execution_count": null
  },
  {
   "metadata": {},
   "cell_type": "code",
   "source": "",
   "id": "1e2481d83826319a",
   "outputs": [],
   "execution_count": null
  },
  {
   "metadata": {},
   "cell_type": "markdown",
   "source": "\n",
   "id": "e01d707a6105883c"
  }
 ],
 "metadata": {
  "kernelspec": {
   "display_name": "Python 3",
   "language": "python",
   "name": "python3"
  },
  "language_info": {
   "codemirror_mode": {
    "name": "ipython",
    "version": 2
   },
   "file_extension": ".py",
   "mimetype": "text/x-python",
   "name": "python",
   "nbconvert_exporter": "python",
   "pygments_lexer": "ipython2",
   "version": "2.7.6"
  }
 },
 "nbformat": 4,
 "nbformat_minor": 5
}
