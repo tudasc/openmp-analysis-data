{
 "cells": [
  {
   "cell_type": "code",
   "id": "initial_id",
   "metadata": {
    "collapsed": true
   },
   "source": [
    "import pandas as pd\n",
    "import os\n",
    "\n",
    "base_dir = \"/home/tim/scratch/openmp-usage-analysis-binaries/RESULTS\"\n",
    "#df = pd.read_csv('~/scratch/', index_col=0)\n",
    "\n",
    "sample = \"yuhangy7--Game-of-Life-parallelization\"\n",
    "\n",
    "\n"
   ],
   "outputs": [],
   "execution_count": null
  },
  {
   "metadata": {},
   "cell_type": "code",
   "source": [
    "df_full = pd.DataFrame()\n",
    "for root, dirs, files in os.walk(base_dir):\n",
    "    for name in files:\n",
    "        if name.endswith(\".csv\"):\n",
    "            if not name.endswith(\".o.csv\"):\n",
    "                this_repo=os.path.basename(os.path.normpath(root))\n",
    "                this_file = os.path.join(root, name)\n",
    "                this_df = pd.read_csv(this_file,index_col=0)\n",
    "                this_df[\"Code\"]=this_repo\n",
    "                # remove the .csv result in original binary name\n",
    "                this_df[\"File\"]=os.path.basename(this_file)[:-3]\n",
    "                df_full = pd.concat([df_full,this_df])\n",
    "df_full\n",
    "    "
   ],
   "id": "ee40524707552c17",
   "outputs": [],
   "execution_count": null
  },
  {
   "metadata": {},
   "cell_type": "code",
   "source": "df_full.to_csv(\"tool_result_excerpt.csv\")",
   "id": "7cdf55d0d660d369",
   "outputs": [],
   "execution_count": null
  },
  {
   "metadata": {},
   "cell_type": "code",
   "source": "len(df_full[\"Code\"].unique())",
   "id": "9b0fdecbdced3ebb",
   "outputs": [],
   "execution_count": null
  },
  {
   "metadata": {},
   "cell_type": "code",
   "source": [
    "print((df_full[\"instructions_weighted\"] < 300).value_counts())\n",
    "print((df_full[\"instructions_flat\"] < 300).value_counts())"
   ],
   "id": "9ee7f49cd204534a",
   "outputs": [],
   "execution_count": null
  },
  {
   "metadata": {},
   "cell_type": "code",
   "source": [
    "# Number of parallel regions per Repo\n",
    "df_full.groupby(\"Code\").size().value_counts()"
   ],
   "id": "e992f8b49dd6e771",
   "outputs": [],
   "execution_count": null
  },
  {
   "metadata": {},
   "cell_type": "code",
   "source": "",
   "id": "cf167e2c96fea3b5",
   "outputs": [],
   "execution_count": null
  },
  {
   "metadata": {},
   "cell_type": "code",
   "source": "",
   "id": "906b68260420ba83",
   "outputs": [],
   "execution_count": null
  },
  {
   "metadata": {},
   "cell_type": "markdown",
   "source": "\n",
   "id": "e01d707a6105883c"
  }
 ],
 "metadata": {
  "kernelspec": {
   "display_name": "Python 3",
   "language": "python",
   "name": "python3"
  },
  "language_info": {
   "codemirror_mode": {
    "name": "ipython",
    "version": 2
   },
   "file_extension": ".py",
   "mimetype": "text/x-python",
   "name": "python",
   "nbconvert_exporter": "python",
   "pygments_lexer": "ipython2",
   "version": "2.7.6"
  }
 },
 "nbformat": 4,
 "nbformat_minor": 5
}
